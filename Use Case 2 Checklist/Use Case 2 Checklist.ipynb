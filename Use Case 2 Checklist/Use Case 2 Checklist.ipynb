{
 "metadata": {
  "kernelspec": {
   "display_name": "Streamlit Notebook",
   "name": "streamlit"
  },
  "lastEditStatus": {
   "notebookId": "fhvvtnb4cnswkadytwku",
   "authorId": "1449212902016",
   "authorName": "SODONNELL_SFC",
   "authorEmail": "shaun.odonnell@snowflake.com",
   "sessionId": "9b96545d-e8c2-4ceb-9803-e8e5696d0d35",
   "lastEditTime": 1752758648438
  }
 },
 "nbformat_minor": 5,
 "nbformat": 4,
 "cells": [
  {
   "cell_type": "code",
   "id": "3775908f-ca36-4846-8f38-5adca39217f2",
   "metadata": {
    "language": "python",
    "name": "cell1",
    "collapsed": true,
    "codeCollapsed": true
   },
   "source": "# Import python packages\nimport streamlit as st\nimport pandas as pd\n\n# We can also use Snowpark for our analyses!\nfrom snowflake.snowpark.context import get_active_session\nsession = get_active_session()\n",
   "execution_count": null,
   "outputs": []
  },
  {
   "cell_type": "markdown",
   "id": "69956196-a030-44ca-9bba-4f096bbf2860",
   "metadata": {
    "name": "cell2",
    "collapsed": false
   },
   "source": "---\n\n# Objectives\n\n* Identify **high-cost, low-value customers** for re-negotiation or phasing out.\n* Surface **strategic high-value accounts** for growth investments.\n* Link **financial metrics** (margin, revenue) to **operational impact** (support hours, change orders).\n* Enable executive dashboards showing **customer segmentation by value tier**.\n* Provide account managers and finance with **actionable insights** for renewal and pricing strategy.\n\n---\n\n# In-Scope Data Sources\n\n* Salesforce\n* Workday\n* Costpoint\n* HCSS\n* Viewpoint\n\n---\n\n# Functional Requirements\n\n## Data Ingestion & Integration\n\n* Extract data from:\n    * Costpoint\n    * Workday\n    * Salesforce\n    * HCSS\n    * Viewpoint\n* Standardize and link customer records across systems using **Master Data Management (MDM)** logic.\n\n## Metric Calculation\n\n* **Revenue** from Costpoint/Salesforce.\n* **Margin** from Costpoint.\n* **Labor effort** (hours \\* loaded cost) from HCSS, Viewpoint.\n* **Strategic tiering and relationship health** from Salesforce.\n* **Customer Cost-to-Value Score** = (Margin % + Tier Score) / (Labor Cost + Support Hours + Discounts)\n    * *Additional Information for Calculations: See Customer Value Scoring Framework documentation.*\n\n## Security & Governance\n\n* Mask **employee PII** from Workday for non-HR roles.\n* Restrict access to **margin data** to finance users.\n* Use **domain-specific roles**.\n* Track **source-to-report lineage**.\n\n## Data Cataloging & Metadata\n\n* Catalog each data with tags: **“Customer”**, **“Financial”**, **“Confidential”**.\n* Assign **data stewards** for each domain.\n\n## Dashboard & Analytics\n\n* **Executive Cost-to-Value Heatmap**: customers grouped by value quadrant.\n* **Top 10 High-Cost Customers**.\n* **Customer Lifetime Margin Trend**.\n* **Support Cost per \\$1M Revenue**.\n* **Strategic Account Watchlist** (based on declining value score)."
  },
  {
   "cell_type": "markdown",
   "id": "0c93f376-438f-4ec6-ad5d-4f49b6438443",
   "metadata": {
    "name": "cell3",
    "collapsed": false
   },
   "source": "### Loading this data is not much different from anything we have done in previous use case, but this is all json.  Perfectly suited to Snowflake."
  },
  {
   "cell_type": "code",
   "id": "d17a0225-8900-4bb0-a518-3ff401598f77",
   "metadata": {
    "language": "sql",
    "name": "cell5"
   },
   "outputs": [],
   "source": "use database cust_cost_value;\nuse schema raw;\nshow tables;",
   "execution_count": null
  },
  {
   "cell_type": "markdown",
   "id": "8b8289e1-367c-4333-bfe5-0a4fb82b3367",
   "metadata": {
    "name": "cell6",
    "collapsed": false
   },
   "source": "### Use the Database browser at left to look at the data in the single Variant column.  We need to flatten the data.  This is done through SQL statements.\n\nI prepared these here: https://app.snowflake.com/us-east-1/zxc20771/wVzUmLdWdAO#query"
  },
  {
   "cell_type": "code",
   "id": "f7238fea-a937-454d-b29d-4fb468d37e80",
   "metadata": {
    "language": "sql",
    "name": "cell4",
    "collapsed": false,
    "codeCollapsed": false
   },
   "outputs": [],
   "source": "use database cust_cost_value;\nuse schema core;\n--Metric Calculation\n    --Revenue from Costpoint/Salesforce\n    --Margin from Costpoint\n    --Labor effort (hours * loaded cost) from HCSS, Viewpoint\n    --Strategic tiering and relationship health from Salesforce\n    --Final: Customer Cost-to-Value Score = (Margin % + Tier Score) / (Labor Cost + Support Hours +Discounts)\n--Additional Information for Calculations: See Customer Value Scoring Framework documentation.\n\nselect distinct metricname from CUST_COST_VALUE.CORE.CUSTOMER_VALUE_METRICS_VIEW;\nselect distinct metricname from CUST_COST_VALUE.CORE.COSTPOINT_CLIENT_VALUE_METRICS_VIEW;\nselect distinct metricname from CUST_COST_VALUE.CORE.SALESFORCE_CUSTOMER_VALUE_METRICS_VIEW;\n\n\n",
   "execution_count": null
  },
  {
   "cell_type": "code",
   "id": "a562fae8-364c-47a4-a6a3-aa9653879fed",
   "metadata": {
    "language": "sql",
    "name": "cell13",
    "collapsed": false,
    "codeCollapsed": false
   },
   "outputs": [],
   "source": "select accountid, b.name, metricname, metricvalue from CUST_COST_VALUE.CORE.SALESFORCE_CUSTOMER_VALUE_METRICS_VIEW a, salesforce_accounts_view b\nwhere metricname = 'NPS' and a.accountid= b.id;\n--hmm there history in the metrics table, need to get the most current",
   "execution_count": null
  },
  {
   "cell_type": "markdown",
   "id": "f1c121e0-2cf0-4eae-9c2c-21a816c52ff8",
   "metadata": {
    "name": "cell11",
    "collapsed": false
   },
   "source": "## We're going to use CoPilot to help us create a few queries.  This is an incredible tool right within Snowflake and it WILL speed your development whether you are a data engineer or an analyst.\n\nTry: The previous query needs to be modified to retrieve the latest metricvalue per accountid using the asofdate field"
  },
  {
   "cell_type": "code",
   "id": "5cfdedc0-d579-4109-bdd7-251a43d0e5d9",
   "metadata": {
    "language": "sql",
    "name": "cell9",
    "codeCollapsed": false
   },
   "outputs": [],
   "source": "WITH LatestNPSMetrics AS (\n  SELECT\n    accountid,\n    metricname,\n    metricvalue,\n    asofdate,\n    ROW_NUMBER() OVER (\n      PARTITION BY accountid\n      ORDER BY\n        asofdate DESC\n    ) AS rn\n  FROM\n    CUST_COST_VALUE.CORE.SALESFORCE_CUSTOMER_VALUE_METRICS_VIEW\n  WHERE\n    metricname ILIKE '%NPS%'\n)\nSELECT\n  a.ACCOUNTID,\n  b.NAME,\n  a.METRICNAME,\n  a.METRICVALUE AS ORIGINAL_VALUE,\n  ROUND((a.METRICVALUE + 100) / 20, 1) AS METRICVALUE_10PT_SCALE\nFROM\n  LatestNPSMetrics AS a\n  JOIN CUST_COST_VALUE.CORE.SALESFORCE_ACCOUNTS_VIEW AS b ON a.ACCOUNTID = b.ID\nWHERE\n  rn = 1;",
   "execution_count": null
  },
  {
   "cell_type": "code",
   "id": "5577448b-2d28-4d53-8dd8-761dc4c8c52c",
   "metadata": {
    "language": "sql",
    "name": "cell8"
   },
   "outputs": [],
   "source": "",
   "execution_count": null
  },
  {
   "cell_type": "code",
   "id": "e02be94f-4d0f-4dae-9afa-c2c39dcf5649",
   "metadata": {
    "language": "sql",
    "name": "cell10",
    "codeCollapsed": false
   },
   "outputs": [],
   "source": "WITH LatestNPSMetrics AS (\n  SELECT\n    accountid,\n    metricname,\n    metricvalue,\n    ROUND((metricvalue + 100) / 20, 1) AS NORMALIZED_VALUE,\n    asofdate,\n    ROW_NUMBER() OVER (\n      PARTITION BY accountid\n      ORDER BY\n        asofdate DESC\n    ) AS rn\n  FROM\n    CUST_COST_VALUE.CORE.SALESFORCE_CUSTOMER_VALUE_METRICS_VIEW\n  WHERE\n    metricname ILIKE '%NPS%'\n)\nSELECT\n  a.ACCOUNTID,\n  b.NAME,\n  a.METRICNAME,\n  a.METRICVALUE AS ORIGINAL_VALUE,\n  a.NORMALIZED_VALUE AS METRICVALUE_10PT_SCALE,\n  CASE\n    WHEN a.NORMALIZED_VALUE BETWEEN 9\n    AND 10 THEN 20\n    WHEN a.NORMALIZED_VALUE BETWEEN 7\n    AND 8 THEN 10\n    ELSE 0\n  END AS NPS_SCORE\nFROM\n  LatestNPSMetrics AS a\n  JOIN CUST_COST_VALUE.CORE.SALESFORCE_ACCOUNTS_VIEW AS b ON a.ACCOUNTID = b.ID\nWHERE\n  rn = 1;",
   "execution_count": null
  },
  {
   "cell_type": "code",
   "id": "5ec76fce-cde8-415e-922c-598ed32ff869",
   "metadata": {
    "language": "sql",
    "name": "cell7"
   },
   "outputs": [],
   "source": "\n--Revenue Tier from Salesforce    \nSELECT\n    ID,\n    NAME,\n    AMOUNT,\n    Stage,\n    closedate,\n    CASE\n        WHEN AMOUNT > 5000000 THEN 15\n        WHEN AMOUNT >= 1000000 AND AMOUNT <= 5000000 THEN 10\n        WHEN AMOUNT < 1000000 THEN 5\n        ELSE 0 -- Handle cases where AMOUNT might be NULL or unexpected\n    END AS REVENUE_TIER_POINTS\nFROM\n    CUST_COST_VALUE.CORE.SALESFOCE_OPPORTUNITIES_VIEW\nWHERE\n    STAGE = 'Closed Won'\nQUALIFY ROW_NUMBER() OVER (PARTITION BY ID ORDER BY closedate DESC) = 1;\n\n\n\n",
   "execution_count": null
  },
  {
   "cell_type": "code",
   "id": "8a51873e-930b-48fc-90e5-74c864ebd12c",
   "metadata": {
    "language": "sql",
    "name": "cell12"
   },
   "outputs": [],
   "source": "select * from \nCUST_COST_VALUE.CORE.VIEWPOINT_CLIENTS a,\nCUST_COST_VALUE.CORE.SALESFORCE_ACCOUNTS_VIEW b,\nCUST_COST_VALUE.CORE.HCSS_CUSTOMERS_VIEW c\nwhere a.clientname = b.name and b.name = c.customername;",
   "execution_count": null
  }
 ]
}