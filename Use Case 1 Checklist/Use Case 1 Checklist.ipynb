{
 "metadata": {
  "kernelspec": {
   "display_name": "Streamlit Notebook",
   "name": "streamlit"
  },
  "lastEditStatus": {
   "notebookId": "pwnqh6iek74gpo4n7qnz",
   "authorId": "1449212902016",
   "authorName": "SODONNELL_SFC",
   "authorEmail": "shaun.odonnell@snowflake.com",
   "sessionId": "c514bf9b-2e74-4fb2-b94b-4f6f63702124",
   "lastEditTime": 1752683971408
  }
 },
 "nbformat_minor": 5,
 "nbformat": 4,
 "cells": [
  {
   "cell_type": "code",
   "id": "3775908f-ca36-4846-8f38-5adca39217f2",
   "metadata": {
    "language": "python",
    "name": "cell1",
    "collapsed": true,
    "codeCollapsed": true
   },
   "source": "# Import python packages\nimport streamlit as st\nimport pandas as pd\n\n# We can also use Snowpark for our analyses!\nfrom snowflake.snowpark.context import get_active_session\nsession = get_active_session()\n",
   "execution_count": null,
   "outputs": []
  },
  {
   "cell_type": "markdown",
   "id": "eb183b15-fe9b-4cee-b3a5-9535bd356c5a",
   "metadata": {
    "name": "cell2",
    "collapsed": false
   },
   "source": "## Objectives\n* Enable safe, isolated testing of incoming subsidiary data\n\n* Identify gaps, risks, and transformation requirements early\n\n* Accelerate onboarding by establishing mappings to enterprise models\n\n* Mitigate data quality issues before integrating into production\n\n* Provide secure, role-based access for cross-functional teams (IT, finance, HR, legal)\n\n"
  },
  {
   "cell_type": "code",
   "id": "bbcbd7c6-1ef8-479f-92a2-90202058787f",
   "metadata": {
    "language": "sql",
    "name": "cell3"
   },
   "outputs": [],
   "source": "\nCREATE OR REPLACE API INTEGRATION git_sodonnell API_PROVIDER = git_https_api API_ALLOWED_PREFIXES = ('https://github.com/sfc-gh-shaun') ENABLED = TRUE;",
   "execution_count": null
  }
 ]
}