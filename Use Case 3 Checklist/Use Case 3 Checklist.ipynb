{
 "metadata": {
  "kernelspec": {
   "display_name": "Streamlit Notebook",
   "name": "streamlit"
  },
  "lastEditStatus": {
   "notebookId": "sxuzhn3klio6xx5exatg",
   "authorId": "1449212902016",
   "authorName": "SODONNELL_SFC",
   "authorEmail": "shaun.odonnell@snowflake.com",
   "sessionId": "b23e833b-3abb-4eda-b579-59e120d7fdc0",
   "lastEditTime": 1752684970743
  }
 },
 "nbformat_minor": 5,
 "nbformat": 4,
 "cells": [
  {
   "cell_type": "code",
   "id": "3775908f-ca36-4846-8f38-5adca39217f2",
   "metadata": {
    "language": "python",
    "name": "cell1"
   },
   "source": "# Import python packages\nimport streamlit as st\nimport pandas as pd\n\n# We can also use Snowpark for our analyses!\nfrom snowflake.snowpark.context import get_active_session\nsession = get_active_session()\n",
   "execution_count": null,
   "outputs": []
  },
  {
   "cell_type": "markdown",
   "id": "e98bdf03-3bd8-4a48-bc64-186fb578f8f4",
   "metadata": {
    "name": "cell2",
    "collapsed": false
   },
   "source": "# Data Reporting and Machine Learning: Burn Rate Forecasting\n\n---\n\n## Business Need\n\nProgram managers within Calista and its holding companies are constantly looking to improve their **burn rate forecasting** for current and future/planned projects. Project managers and finance teams currently lack real-time insight into how fast budgeted funds are being spent (**\"burn rate\"**) and how that aligns with labor costs, indirect expenses, and project milestones. The existing process is manual, retrospective, and disconnected across various systems like Costpoint (costs), HCSS (costs), and other timekeeping tools.\n\n---\n\n## Objectives\n\n* Provide near real-time visibility into project financial health.\n* Enable proactive budget adjustments before overruns.\n* Improve forecast accuracy using historical spend patterns.\n* Align labor costs, time, and project milestones into a single view.\n* Reduce manual spreadsheet work and the risk of errors.\n\n---\n\n## In-Scope Data Sources\n\n* **Costpoint**: budgets, actuals, labor data\n* **PDF / Excel files**: pricing & contract data\n* **HCSS**: labor data\n\n---\n\n## Functional Requirements\n\n### Data Integration\n\n* Build pipelines from Costpoint to extract budget, actual, and committed cost data.\n* Integrate labor data from Costpoint, Workday, HCSS, and Viewpoint for hours worked and labor categories.\n* Standardize data into a unified model (project ID, task, labor category, time period).\n* Add manual adjustments/forecast inputs from Excel, Word, and/or SharePoint if needed.\n\n### Data Transformations & Forecasting\n\n* Calculate **burn rate** (actual cost / total budget) * 100 over time.\n* Forecast future spend based on historical velocity and staffing plans.\n* Create margin projections based on the burn rate vs. revenue accruals.\n* Flag projects that exceed burn thresholds (e.g., ≥80% budget at 50% project completion).\n\n### Security & Governance\n\n* Apply **Role-Based Access Control (RBAC)**: project-level visibility for PMs; Finance can view all.\n* Mask or restrict access to individual wage data unless the user has an HR role.\n* Classify datasets (e.g., sensitive labor cost fields).\n* Track lineage from source system (i.e., Costpoint) through the data lake to the report.\n\n### Metadata & Documentation\n\n* Tag datasets as “financial-critical”, “forecasting”, “labor-sensitive”.\n* Add business glossary terms (e.g., burn-rate, earned value, EAC).\n* Assign a data steward to the forecasting dataset.\n* Document assumptions for all forecast logic in the catalog.\n\n### Reporting & Insights\n\n* Build dashboards for:\n    * Budget vs. Actual by month\n    * Forecast burn rate vs. baseline\n    * Heatmaps for over/under-spending by project\n    * Variance explanations (with auto-tagged reasons)\n* Export forecast summaries to Excel/CSV for program reviews.\n\n---\n\n## Risks & Mitigations\n\n* **Risk**: Incomplete or late data from source systems\n    * **Mitigation**: Add data freshness indicators; automate checks.\n* **Risk**: Forecasting model too simplistic or inaccurate\n    * **Mitigation**: Add an option for manual override or tiered forecast models.\n* **Risk**: Sensitive data exposed\n    * **Mitigation**: Implement masking and scoped access controls.\n* **Risk**: Misaligned assumptions from finance and PMs\n    * **Mitigation**: Create a governance review process for forecast logic.\n\n---\n\n## KPIs / Success Criteria\n\n* **% of active projects with forecast enabled**: ≥95%\n* **Forecast accuracy (within ±10% of actuals)**: ≥80%\n* **Time saved in monthly forecasting process**: ≥50%\n* **Number of budget overruns caught early**: ≥90% detected before >90% burn rate\n* **User adoption (monthly active users of dashboard)**: increasing trend; ≥75% of PMs use monthly"
  }
 ]
}